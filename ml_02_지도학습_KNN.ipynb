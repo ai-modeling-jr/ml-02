{
 "cells": [
  {
   "cell_type": "code",
   "execution_count": null,
   "metadata": {
    "colab": {
     "base_uri": "https://localhost:8080/"
    },
    "executionInfo": {
     "elapsed": 7668,
     "status": "ok",
     "timestamp": 1713402694775,
     "user": {
      "displayName": "박병운",
      "userId": "04400398390095856511"
     },
     "user_tz": -540
    },
    "id": "YxlMUB_o-1CC",
    "outputId": "7af9203c-e1f9-42fb-c5a9-54d17394d686"
   },
   "outputs": [],
   "source": [
    "!pip install mglearn"
   ]
  },
  {
   "cell_type": "markdown",
   "metadata": {
    "id": "D7FHW2aXqgpD"
   },
   "source": [
    "# 지도학습 - K-Nearest Neighbors (K-NN)"
   ]
  },
  {
   "cell_type": "markdown",
   "metadata": {
    "id": "VBkqsU34qj51"
   },
   "source": [
    "지도 학습 (Supervised Learning)\n",
    "- 데이터에 대한 Label(명시적인 답)이 주어진 상태에서 컴퓨터를 학습시키는 방법.\n",
    "\n",
    "비지도 학습 (Unsupervised Learning)\n",
    "- 데이터에 대한 Label(명시적인 답)이 없는 상태에서 컴퓨터를 학습시키는 방법.\n",
    "- 데이터의 숨겨진 특성이나 구조를 파악하는데 사용.\n"
   ]
  },
  {
   "cell_type": "markdown",
   "metadata": {
    "id": "ouQU5jqTq32L"
   },
   "source": [
    "분류 (Classification)\n",
    "- 미리 정의된 여러 클래스 레이블 중 하나를 예측하는 것.\n",
    "- 속성 값을 입력, 클래스 값을 출력으로 하는 모델\n",
    "- 붓꽃(iris)의 세 품종 중 하나로 분류, 암 분류 등.\n",
    "- 이진분류, 다중 분류 등이 있다.\n"
   ]
  },
  {
   "cell_type": "markdown",
   "metadata": {
    "id": "lrluIpUfrAtR"
   },
   "source": [
    "회귀 (Regression)\n",
    "- 연속적인 숫자를 예측하는 것.\n",
    "- 속성 값을 입력, 연속적인 실수 값을 출력으로 하는 모델\n",
    "- 어떤 사람의 교육수준, 나이, 주거지를 바탕으로 연간 소득 예측.\n",
    "- 예측 값의 미묘한 차이가 크게 중요하지 않다."
   ]
  },
  {
   "cell_type": "markdown",
   "metadata": {
    "id": "YbqjV135rRz3"
   },
   "source": [
    "일반화, 과대적합, 과소적합\n",
    "\n",
    "일반화 (Generalization)\n",
    "- 훈련 세트로 학습한 모델이 테스트 세트에 대해 정확히 예측 하도록 하는 것 .\n",
    "\n",
    "과대적합 (Overfitting)\n",
    "- 훈련 세트에 너무 맞추어져 있어 테스트 세트의 성능 저하.\n",
    "\n",
    "과소적합 (Underfitting)\n",
    "- 훈련 세트를 충분히 반영하지 못해 훈련 세트, 테스트 세트에서 모두 성능이 저하.\n"
   ]
  },
  {
   "cell_type": "markdown",
   "metadata": {
    "id": "6DKjiytfsERo"
   },
   "source": [
    "<center>\n",
    " <img src=\"https://image.slidesharecdn.com/2-171030145527/95/2supervised-learningepoch21-9-1024.jpg?cb=1509375471\" alt=\"과대적합\" width=\"40%\" />\n",
    "\n",
    "</center>"
   ]
  },
  {
   "cell_type": "markdown",
   "metadata": {
    "id": "ucswwc4YsTN_"
   },
   "source": [
    "<center>\n",
    " <img src=\"https://image.slidesharecdn.com/2-171030145527/95/2supervised-learningepoch21-10-1024.jpg?cb=1509375471\" alt=\"과소적합\" width=\"60%\" />\n",
    "\n",
    "</center>"
   ]
  },
  {
   "cell_type": "markdown",
   "metadata": {
    "id": "pipeajPbtrP6"
   },
   "source": [
    "***일반화 성능이 최대화 되는 모델을 찾는 것이 목표***\n",
    "\n",
    "과대적합 (Overfitting)\n",
    "- 너무 상세하고 복잡한 모델링을 하여 훈련데이터에만 과도하게 정확히 동작하는 모델.\n",
    "\n",
    "과소적합 (Underfitting)\n",
    "- 모델링을 너무 간단하게 하여 성능이 제대로 나오지 않는 모델.\n"
   ]
  },
  {
   "cell_type": "markdown",
   "metadata": {
    "id": "DV4F1J_qu0Mu"
   },
   "source": [
    "모델 복잡도 곡선\n",
    "\n",
    "<center>\n",
    " <img src=\"https://tensorflowkorea.files.wordpress.com/2017/06/fig2-01.png\" alt=\"모델 복잡도 곡선\" width=\"60%\" />\n",
    "\n",
    "</center>\n",
    "\n"
   ]
  },
  {
   "cell_type": "markdown",
   "metadata": {
    "id": "rhOpHopIvpnt"
   },
   "source": [
    "해결방법\n",
    "\n",
    "- 주어진 훈련데이터의 다양성이 보장되어야 한다 (다양한 데이터포인트를 골고루 나타내야 한다)\n",
    "- 일반적으로 데이터 양이 많으면 일반화에 도움이 된다.\n",
    "- 그러나 편중된 데이터를 많이 모으는 것은 도움이 되지 않는다.\n",
    "- 규제(Regularization)을 통해 모델의 복잡도를 적정선으로 설정한다.\n"
   ]
  },
  {
   "cell_type": "markdown",
   "metadata": {
    "id": "FnUQR0YBv9Z2"
   },
   "source": [
    "## K-Nearest Neighbors (K-NN)\n"
   ]
  },
  {
   "cell_type": "markdown",
   "metadata": {
    "id": "jx5_DzFGwDwy"
   },
   "source": [
    "k-최근접 이웃 알고리즘\n",
    "\n",
    "- 새로운 데이터 포인트와 가장 가까운 훈련 데이터셋의 데이터  포인트를 찾아 예측\n",
    "- k 값에 따라 가까운 이웃의 수가 결정\n",
    "- 분류와 회귀에 모두 사용 가능\n"
   ]
  },
  {
   "cell_type": "markdown",
   "metadata": {
    "id": "Nq47kaWj0i-Q"
   },
   "source": [
    "- 입력 값과 k개의 가까운 점이 있다고 가정할 때 그 점들이 어떤 라벨과 가장 비슷한지 (최 근접 이웃)\n",
    "판단하는 알고리즘\n",
    "\n",
    "- 매개 변수 : 데이터 포인트 사이의 거리를 재는 방법 (일반적으로 유클리디안 거리 사용), 이웃의 수\n",
    " - 장점 : 이해하기 쉬운 모델, 약간의 조정으로 좋은 성능\n",
    " - 단점 : 훈련 세트가 크면 속도가 느림, 많은 특성을 처리하기 힘듬"
   ]
  },
  {
   "cell_type": "code",
   "execution_count": null,
   "metadata": {
    "colab": {
     "base_uri": "https://localhost:8080/",
     "height": 431
    },
    "executionInfo": {
     "elapsed": 5353,
     "status": "ok",
     "timestamp": 1713402706665,
     "user": {
      "displayName": "박병운",
      "userId": "04400398390095856511"
     },
     "user_tz": -540
    },
    "id": "G4_tBCGZ-8ih",
    "outputId": "0679add8-4aee-4497-e89d-44e0525e34f3"
   },
   "outputs": [],
   "source": [
    "import mglearn\n",
    "\n",
    "mglearn.plots.plot_knn_classification(n_neighbors=1)"
   ]
  },
  {
   "cell_type": "code",
   "execution_count": null,
   "metadata": {
    "colab": {
     "base_uri": "https://localhost:8080/",
     "height": 431
    },
    "executionInfo": {
     "elapsed": 1081,
     "status": "ok",
     "timestamp": 1713402749091,
     "user": {
      "displayName": "박병운",
      "userId": "04400398390095856511"
     },
     "user_tz": -540
    },
    "id": "7pkAifVXRbe7",
    "outputId": "4f8bbe3a-5fda-4cc0-c514-163d43efe6af"
   },
   "outputs": [],
   "source": [
    "mglearn.plots.plot_knn_classification(n_neighbors=3)"
   ]
  },
  {
   "cell_type": "markdown",
   "metadata": {
    "id": "4BMrmRCNxFZo"
   },
   "source": [
    "<center>\n",
    " <img src=\"https://tensorflowkorea.files.wordpress.com/2017/06/2-4.png?w=625\" alt=\"1-최근접 이웃 모델\" width=\"60%\" />\n",
    "\n",
    "1-최근접 이웃 모델\n",
    "\n",
    " <img src=\"https://tensorflowkorea.files.wordpress.com/2017/06/2-5.png?w=768\" alt=\"3-최근접 이웃 모델\" width=\"60%\" />\n",
    "\n",
    " 3-최근접 이웃 모델\n",
    "\n",
    "</center>\n"
   ]
  },
  {
   "cell_type": "markdown",
   "metadata": {
    "id": "hyw6-dEJyjAg"
   },
   "source": [
    "- k 값이 작을 수록 모델의 복잡도가 상대적으로 증가.\n",
    "    (noise 값에 민감)\n",
    "- 반대로 k 값이 많아질수록 모델의 복잡도가 낮아진다.\n",
    "- 100개의 데이터를 학습하고 k를 100개로 설정하여 예측하면 빈도가 가장 많은 클래스 레이블로 분류\n"
   ]
  },
  {
   "cell_type": "markdown",
   "metadata": {
    "id": "n_mw_KHszFS-"
   },
   "source": [
    "앵그리버드는 팽귄? or 닭?\n",
    "\n",
    "<center>\n",
    " <img src=\"https://t1.daumcdn.net/cfile/tistory/110188344CEB80083A\" alt=\"앵그리버드 팽귄 닭\" width=\"60%\" />\n",
    "\n",
    "</center>"
   ]
  },
  {
   "cell_type": "markdown",
   "metadata": {
    "id": "4GRWtfyd08q4"
   },
   "source": [
    "유클리디안 거리 (Euclidean distance) : 두 점사이의 거리를 계산할 때 쓰이는 방법\n",
    "- 두 점 (p1, p2, ...)와 (q1, q2, ....)의 거리\n",
    "\n",
    "\n",
    "유클리디안 거리 공식\n",
    "\n",
    " <img src=\"https://wikidocs.net/images/page/24654/2%EC%B0%A8%EC%9B%90_%ED%8F%89%EB%A9%B4.png\" alt=\"유클리디안 거리\" width=\"60%\" />\n",
    "\n",
    "</center>"
   ]
  },
  {
   "cell_type": "markdown",
   "metadata": {
    "id": "ys5Y_SnQxqMG"
   },
   "source": [
    "KNeighborsClassifier()\n",
    "```\n",
    "KNeighborsClassifier(n_neighbors, weights, algorithm, leaf_size, p, metric, metric_params, n_jobs)\n",
    "```\n",
    "- n_neighbors : 이웃의 수 (default : 5)\n",
    "- weights : 예측에 사용된 가중 함수 (uniform, distance) (default : uniform)\n",
    "- algorithm : 가까운 이웃을 계산하는데 사용되는 알고리즘 (auto, ball_tree, kd_tree, brute)\n",
    "- leaf_size : BallTree 또는 KDTree에 전달 된 리프 크기\n",
    "- p : (1 : minkowski_distance, 2: manhattan_distance 및 euclidean_distance)\n",
    "- metric : 트리에 사용하는 거리 메트릭스\n",
    "- metric_params : 메트릭 함수에 대한 추가 키워드 인수\n",
    "- n_jobs : 이웃 검색을 위해 실행할 병렬 작업 수"
   ]
  },
  {
   "cell_type": "markdown",
   "metadata": {
    "id": "P_dgm3wNkYsQ"
   },
   "source": [
    "KNeighborsClassifier 모델은 k-최근접 이웃 분류 또는 KNN이라고 합니다. <br>\n",
    "k-NN 알고리즘은 가장 가까운 훈련 데이터 포인트 K개를 최근접 이웃으로 찾아 예측에 사용합니다. <br>\n",
    "n_neighbors=1 는 1개를 최근접 이웃으로 하겠다는 것입니다."
   ]
  },
  {
   "cell_type": "markdown",
   "metadata": {
    "id": "gckNe5VR2gXJ"
   },
   "source": [
    "주요 매개변수(Hyperparameter)\n",
    "- 거리측정 방법, 이웃의 수, 가중치 함수\n",
    "\n",
    "scikit-learn의 경우\n",
    "- metric  :  유클리디언 거리 방식\n",
    "- k : 이웃의 수\n",
    "- weight  : 가중치 함수\n",
    "     -  uniform : 가중치를 동등하게 설정.\n",
    "     -  distance :  가중치를 거리에 반비례하도록 설정\n"
   ]
  },
  {
   "cell_type": "markdown",
   "metadata": {
    "id": "qp2ass6k26KD"
   },
   "source": [
    "장단점\n",
    "- 이해하기 매우 쉬운 모델\n",
    "- 훈련 데이터 세트가 크면(특성,샘플의 수) 예측이 느려진다\n",
    "- 수백 개 이상의 많은 특성을 가진 데이터 세트와 특성 값 대부분이 0인 희소(sparse)한 데이터 세트에는 잘 동작하지 않는다\n",
    "- 거리를 측정하기 때문에 같은 scale을 같도록 정규화 필요\n"
   ]
  },
  {
   "cell_type": "markdown",
   "metadata": {
    "id": "QXE4MqWcyEi5"
   },
   "source": [
    "#### iris 데이터를 이용한 KNN 분류 실습\n",
    "\n",
    "붓꽃 데이터 셋\n",
    "- 클래스 (class) : 출력될 수 있는 값 (붓꽃의 종류)\n",
    "- 레이블 (label) : 특정 데이터 포인트에 대한 출력\n",
    "\n",
    "<center>\n",
    " <img src=\"https://tensorflowkorea.files.wordpress.com/2017/06/1-2.png\" alt=\"붓꽃\" width=\"30%\" />\n",
    "\n",
    "</center>"
   ]
  },
  {
   "cell_type": "markdown",
   "metadata": {
    "id": "uUCS-d4y4PM2"
   },
   "source": [
    "붓꽃 (Iris)의 품종 분류\n",
    "\n",
    "<center>\n",
    " <img src=\"https://miro.medium.com/max/1000/1*Hh53mOF4Xy4eORjLilKOwA.png\" alt=\"붓꽃 품종\" width=\"60%\" />\n",
    "\n",
    "</center>"
   ]
  },
  {
   "cell_type": "markdown",
   "metadata": {
    "id": "qXPGyhE1O1it"
   },
   "source": [
    "데이터셋 구성\n",
    "- 150개의 데이터\n",
    "- 4개의 정보와 1개의 클래스(3개의 품종)로 구성\n",
    "\n",
    "| sepal_length|\tsepal_width|\tpetal_length|\tpetal_width|\tspecies|\n",
    "|---|---|---|---|---|\n",
    "| 꽃받침 길이| 꽃받침 넓이| 꽃잎 길이| 꽃잎 넓이| 품종|\n"
   ]
  },
  {
   "cell_type": "markdown",
   "metadata": {
    "id": "oZ1kjzM84GQj"
   },
   "source": [
    "##### 사이킷 런 이용"
   ]
  },
  {
   "cell_type": "code",
   "execution_count": null,
   "metadata": {
    "executionInfo": {
     "elapsed": 339,
     "status": "ok",
     "timestamp": 1713408295048,
     "user": {
      "displayName": "박병운",
      "userId": "04400398390095856511"
     },
     "user_tz": -540
    },
    "id": "t90gItOQqIRN"
   },
   "outputs": [],
   "source": [
    "# 데이터 가져오기\n",
    "from sklearn.datasets import load_iris\n",
    "import sklearn.datasets\n",
    "\n",
    "iris_dataset = load_iris()"
   ]
  },
  {
   "cell_type": "markdown",
   "metadata": {
    "id": "OcP8LyHGw0Hb"
   },
   "source": [
    "훈련 세트(training set) <br>\n",
    "테스트 세트(test set), 홀드아웃 세트(hold-out set)"
   ]
  },
  {
   "cell_type": "code",
   "execution_count": null,
   "metadata": {
    "id": "Jzq1JXgjvzEX"
   },
   "outputs": [],
   "source": [
    "# 훈련 데이터와 테스트 데이터 준비\n",
    "from sklearn.model_selection import train_test_split\n",
    "\n",
    "X #= ....\n",
    "y #= ....\n",
    "X_train, X_test, y_train, y_test #= ....\n",
    "# 75% : 25%\n",
    "#...."
   ]
  },
  {
   "cell_type": "code",
   "execution_count": null,
   "metadata": {
    "executionInfo": {
     "elapsed": 341,
     "status": "ok",
     "timestamp": 1713403167524,
     "user": {
      "displayName": "박병운",
      "userId": "04400398390095856511"
     },
     "user_tz": -540
    },
    "id": "AUmEHHCDyuib"
   },
   "outputs": [],
   "source": [
    "# 데이터 조사\n",
    "# 산점도 행렬 : 3개 이상의 특성을 표현\n",
    "# 4개의 특성을 갖는 붓꽃\n",
    "import pandas as pd\n",
    "\n",
    "# iris_df = pd.DataFrame(X_train, columns=iris_dataset.feature_names)\n",
    "# pd.plotting.scatter_matrix(iris_df, c=y_train)"
   ]
  },
  {
   "cell_type": "markdown",
   "metadata": {
    "id": "Ji1sWjnX2l75"
   },
   "source": [
    "##### seaborn 이용\n",
    "\n"
   ]
  },
  {
   "cell_type": "code",
   "execution_count": null,
   "metadata": {
    "colab": {
     "base_uri": "https://localhost:8080/",
     "height": 203
    },
    "executionInfo": {
     "elapsed": 709,
     "status": "ok",
     "timestamp": 1713403232335,
     "user": {
      "displayName": "박병운",
      "userId": "04400398390095856511"
     },
     "user_tz": -540
    },
    "id": "P3bMeHO92szF",
    "outputId": "155710aa-3e18-419a-b1d0-14a072e91012"
   },
   "outputs": [],
   "source": [
    "# 데이터 가져오기\n",
    "import numpy as np\n",
    "import pandas as pd\n",
    "import matplotlib.pyplot as plt\n",
    "import seaborn as sns\n",
    "\n",
    "# iris data loading\n",
    "iris = sns.load_dataset('iris')\n",
    "iris.shape\n",
    "type(iris)"
   ]
  },
  {
   "cell_type": "code",
   "execution_count": null,
   "metadata": {
    "colab": {
     "base_uri": "https://localhost:8080/",
     "height": 206
    },
    "executionInfo": {
     "elapsed": 310,
     "status": "ok",
     "timestamp": 1713403270298,
     "user": {
      "displayName": "박병운",
      "userId": "04400398390095856511"
     },
     "user_tz": -540
    },
    "id": "ONXmdHNQ22YG",
    "outputId": "1016a038-5345-453a-d9ec-a657825b7a58"
   },
   "outputs": [],
   "source": [
    "# sepal_length\tsepal_width\tpetal_length\tpetal_width\tspecies\n",
    "# 꽃받침 길이, 꽃받침 넓이, 꽃잎 길이, 꽃잎 넓이, 품종\n",
    "iris.head()"
   ]
  },
  {
   "cell_type": "markdown",
   "metadata": {
    "id": "zxUgFRHU5Oxd"
   },
   "source": [
    "훈련 세트(training set) <br>\n",
    "테스트 세트(test set), 홀드아웃 세트(hold-out set)"
   ]
  },
  {
   "cell_type": "code",
   "execution_count": null,
   "metadata": {
    "colab": {
     "base_uri": "https://localhost:8080/"
    },
    "executionInfo": {
     "elapsed": 305,
     "status": "ok",
     "timestamp": 1713403440467,
     "user": {
      "displayName": "박병운",
      "userId": "04400398390095856511"
     },
     "user_tz": -540
    },
    "id": "nMcuTLjW4Wjv",
    "outputId": "0333720b-87bc-45ac-992b-78e13387295d"
   },
   "outputs": [],
   "source": [
    "# 훈련 데이터와 테스트 데이터 준비\n",
    "from sklearn.model_selection import train_test_split\n",
    "\n",
    "X = iris.iloc[:, :4]\n",
    "y = iris.iloc[:, -1]\n",
    "X_train, X_test, y_train, y_test = train_test_split(X, y, random_state=0)\n",
    "\n",
    "# 75% : 25%\n",
    "X_train.shape, X_test.shape, y_train.shape, y_test.shape"
   ]
  },
  {
   "cell_type": "code",
   "execution_count": null,
   "metadata": {
    "colab": {
     "base_uri": "https://localhost:8080/",
     "height": 1000
    },
    "executionInfo": {
     "elapsed": 7360,
     "status": "ok",
     "timestamp": 1713403503339,
     "user": {
      "displayName": "박병운",
      "userId": "04400398390095856511"
     },
     "user_tz": -540
    },
    "id": "AwgsCYG12_NO",
    "outputId": "602d084d-9a54-4b6b-9522-0600a1697395"
   },
   "outputs": [],
   "source": [
    "# 데이터 조사\n",
    "# 산점도 행렬 : 3개 이상의 특성을 표현\n",
    "# 4개의 특성을 갖는 붓꽃\n",
    "sns.pairplot(iris, hue='species')"
   ]
  },
  {
   "cell_type": "markdown",
   "metadata": {
    "id": "5OFhJgG2AUZV"
   },
   "source": [
    "##### 공통"
   ]
  },
  {
   "cell_type": "code",
   "execution_count": null,
   "metadata": {
    "colab": {
     "base_uri": "https://localhost:8080/",
     "height": 74
    },
    "executionInfo": {
     "elapsed": 425,
     "status": "ok",
     "timestamp": 1713408302023,
     "user": {
      "displayName": "박병운",
      "userId": "04400398390095856511"
     },
     "user_tz": -540
    },
    "id": "MSNd6f24677o",
    "outputId": "2c9b0e6d-dacc-4d4a-efc1-a33825e489cb"
   },
   "outputs": [],
   "source": [
    "# 머신러닝 모델\n",
    "# k-최근접 이웃 알고리즘\n",
    "# 훈련 데이터에서 새로운 데이터 포인트에 가장 가까운 'k개'의 이웃을 찾는다.\n",
    "from sklearn.neighbors import KNeighborsClassifier\n",
    "\n",
    "model = KNeighborsClassifier(n_neighbors=1)\n",
    "model.fit(X_train, y_train)"
   ]
  },
  {
   "cell_type": "code",
   "execution_count": null,
   "metadata": {
    "colab": {
     "base_uri": "https://localhost:8080/"
    },
    "executionInfo": {
     "elapsed": 306,
     "status": "ok",
     "timestamp": 1713408467073,
     "user": {
      "displayName": "박병운",
      "userId": "04400398390095856511"
     },
     "user_tz": -540
    },
    "id": "G745Zuh39PXq",
    "outputId": "201fd17b-b93e-48f7-e369-08be7bd86ed8"
   },
   "outputs": [],
   "source": [
    "# 모델 평가\n",
    "# 테스트 세트 이용\n",
    "from sklearn import metrics\n",
    "\n",
    "pred = model.predict(X_test)\n",
    "ac_score= metrics.accuracy_score(y_test, pred)\n",
    "ac_score"
   ]
  },
  {
   "cell_type": "code",
   "execution_count": null,
   "metadata": {
    "colab": {
     "base_uri": "https://localhost:8080/"
    },
    "executionInfo": {
     "elapsed": 4,
     "status": "ok",
     "timestamp": 1713408542874,
     "user": {
      "displayName": "박병운",
      "userId": "04400398390095856511"
     },
     "user_tz": -540
    },
    "id": "1dUHgf2h7vZ7",
    "outputId": "7e2ecf56-4cef-4408-e4c8-bbc64a0116a6"
   },
   "outputs": [],
   "source": [
    "# 예측하기\n",
    "import numpy as np\n",
    "\n",
    "X_new = [[5, 2.9, 1, 0.2]]\n",
    "pre = model.predict(X_new)\n",
    "pre"
   ]
  },
  {
   "cell_type": "markdown",
   "metadata": {
    "id": "Zxmj2mNh4sGz"
   },
   "source": [
    "##### iris 데이터를 이용한 KNN 분류 실습 전체코드\n"
   ]
  },
  {
   "cell_type": "code",
   "execution_count": null,
   "metadata": {
    "colab": {
     "base_uri": "https://localhost:8080/"
    },
    "executionInfo": {
     "elapsed": 305,
     "status": "ok",
     "timestamp": 1713408653364,
     "user": {
      "displayName": "박병운",
      "userId": "04400398390095856511"
     },
     "user_tz": -540
    },
    "id": "iEDFVX654uQV",
    "outputId": "6c5ab53f-ed4a-4a70-c7eb-41a36407f01d"
   },
   "outputs": [],
   "source": [
    "import seaborn as sns\n",
    "from sklearn.model_selection import train_test_split\n",
    "from sklearn.neighbors import KNeighborsClassifier\n",
    "from sklearn import metrics\n",
    "\n",
    "# 데이터 가져오기\n",
    "# iris data loading\n",
    "\n",
    "# 훈련 데이터와 테스트 데이터 준비\n",
    "# 75% : 25%\n",
    "\n",
    "# 모델 선택과 학습\n",
    "# k-최근접 이웃 알고리즘\n",
    "\n",
    "# 예측활용\n"
   ]
  },
  {
   "cell_type": "markdown",
   "metadata": {
    "id": "KiHjqH_NG_Yg"
   },
   "source": [
    "### KNeighborsClassifier 분석"
   ]
  },
  {
   "cell_type": "markdown",
   "metadata": {
    "id": "bPtCh0QPGg-m"
   },
   "source": [
    "#### 결정경계([descision boundary](https://developers.google.com/machine-learning/glossary#%EA%B2%B0%EC%A0%95-%EA%B2%BD%EA%B3%84decision-boundary))\n",
    "\n",
    "이웃의 수를 늘릴수록 결정경계는 더 부드러워진다.\n",
    "\n",
    "이웃을 적게 사용하면 모델의 복잡도가 높아지고,\n",
    "많이 사용하면 복잡도는 낮아진다."
   ]
  },
  {
   "cell_type": "code",
   "execution_count": null,
   "metadata": {
    "executionInfo": {
     "elapsed": 368,
     "status": "ok",
     "timestamp": 1713408740937,
     "user": {
      "displayName": "박병운",
      "userId": "04400398390095856511"
     },
     "user_tz": -540
    },
    "id": "FI1Wa1m90AXw"
   },
   "outputs": [],
   "source": [
    "import platform\n",
    "from matplotlib import font_manager, rc\n",
    "import matplotlib\n"
   ]
  },
  {
   "cell_type": "markdown",
   "metadata": {
    "id": "ScnNFWRa9mmY"
   },
   "source": [
    "```\n",
    "# Windows\n",
    "from matplotlib import font_manager, rc\n",
    "\n",
    "font_name = font_manager.FontProperties(fname=\"c:/Windows/Fonts/malgun.ttf\").get_name()\n",
    "rc('font', family=font_name)\n",
    "```"
   ]
  },
  {
   "cell_type": "code",
   "execution_count": null,
   "metadata": {
    "colab": {
     "base_uri": "https://localhost:8080/",
     "height": 288
    },
    "executionInfo": {
     "elapsed": 3093,
     "status": "ok",
     "timestamp": 1713408747406,
     "user": {
      "displayName": "박병운",
      "userId": "04400398390095856511"
     },
     "user_tz": -540
    },
    "id": "qq0rk-5xDxfE",
    "outputId": "ef1bc0d3-2e3d-4ed7-8ee8-d2ff17f837ad"
   },
   "outputs": [],
   "source": [
    "# KNeighborsClassifier 분석\n",
    "import mglearn\n",
    "import matplotlib.pyplot as plt\n",
    "\n",
    "X, y = mglearn.datasets.make_forge()\n",
    "\n",
    "fig, axes = plt.subplots(1, 3, figsize=(10, 3))\n",
    "\n",
    "for n, ax in zip([1, 3, 9], axes):\n",
    "  model = KNeighborsClassifier(n_neighbors=n)\n",
    "  model.fit(X, y)\n",
    "  mglearn.plots.plot_2d_separator(model, X, ax=ax, fill=True, alpha=0.5)\n",
    "  mglearn.discrete_scatter(X[:, 0], X[:, 1], y, ax=ax)\n",
    "  ax.set_title(f'{n} 이웃')"
   ]
  },
  {
   "cell_type": "markdown",
   "metadata": {
    "id": "Mscv3dqMx1_Q"
   },
   "source": [
    "#### 모델 복잡도와 일반화 사이의 관계\n",
    "\n",
    "이웃의 수 변화에 따른 훈련 세트와 테스트 세트의 성능 변화"
   ]
  },
  {
   "cell_type": "markdown",
   "metadata": {
    "id": "wIzF4Y8loZQB"
   },
   "source": [
    "- 데이터셋 : wisconsin의 유방암 데이터셋\n",
    "- 총 569건의 데이터로 악성(212), 양성 (357)으로 구성\n",
    "\n",
    "<center>\n",
    " <img src=\"https://img1.daumcdn.net/thumb/R720x0.q80/?scode=mtistory2&fname=http%3A%2F%2Fcfile7.uf.tistory.com%2Fimage%2F99306C335A1685AA111704\" alt=\"wisconsin의 유방암 데이터셋\" width=\"30%\" />\n",
    "\n",
    "</center>"
   ]
  },
  {
   "cell_type": "code",
   "execution_count": null,
   "metadata": {
    "colab": {
     "base_uri": "https://localhost:8080/"
    },
    "executionInfo": {
     "elapsed": 532,
     "status": "ok",
     "timestamp": 1713408849296,
     "user": {
      "displayName": "박병운",
      "userId": "04400398390095856511"
     },
     "user_tz": -540
    },
    "id": "00FqFYd3odAe",
    "outputId": "75a0f9fe-ab1c-4022-b70f-5abec8f4b29d"
   },
   "outputs": [],
   "source": [
    "import matplotlib.pyplot as plt\n",
    "import seaborn as sns\n",
    "from sklearn.model_selection import train_test_split\n",
    "from sklearn.neighbors import KNeighborsClassifier\n",
    "from sklearn import metrics\n",
    "\n",
    "from sklearn.datasets import load_breast_cancer\n",
    "\n",
    "cancer = load_breast_cancer()\n",
    "print( cancer.keys())\n",
    "print( cancer.data.shape)"
   ]
  },
  {
   "cell_type": "code",
   "execution_count": null,
   "metadata": {
    "colab": {
     "base_uri": "https://localhost:8080/"
    },
    "executionInfo": {
     "elapsed": 308,
     "status": "ok",
     "timestamp": 1713408979948,
     "user": {
      "displayName": "박병운",
      "userId": "04400398390095856511"
     },
     "user_tz": -540
    },
    "id": "Zzx8j9g6of9Q",
    "outputId": "c8078048-d2d5-44a9-f21d-c3ed76fa850f"
   },
   "outputs": [],
   "source": [
    "import numpy as np\n",
    "\n",
    "# 양성과 악성 데이터의 수\n",
    "# zip() : 2개의 데이터를 연결\n",
    "# bincount() : 클래스별 개수를 반환\n",
    "for n, v in zip(cancer.target_names, np.bincount(cancer.target)):\n",
    "  print({n:v})"
   ]
  },
  {
   "cell_type": "code",
   "execution_count": null,
   "metadata": {
    "colab": {
     "base_uri": "https://localhost:8080/"
    },
    "executionInfo": {
     "elapsed": 346,
     "status": "ok",
     "timestamp": 1713409008692,
     "user": {
      "displayName": "박병운",
      "userId": "04400398390095856511"
     },
     "user_tz": -540
    },
    "id": "aDgyqCimoiQk",
    "outputId": "d3626657-b79d-40a2-b49a-8a11965f9724"
   },
   "outputs": [],
   "source": [
    "# 특성의 명칭\n",
    "cancer.feature_names"
   ]
  },
  {
   "cell_type": "code",
   "execution_count": null,
   "metadata": {
    "colab": {
     "base_uri": "https://localhost:8080/"
    },
    "executionInfo": {
     "elapsed": 322,
     "status": "ok",
     "timestamp": 1713409154231,
     "user": {
      "displayName": "박병운",
      "userId": "04400398390095856511"
     },
     "user_tz": -540
    },
    "id": "WXAyoFpbokDK",
    "outputId": "7f4e6424-4c62-4edf-de9c-24f1196579cb"
   },
   "outputs": [],
   "source": [
    "# 훈련 데이터와 테스트 데이터 분리\n",
    "# stratify: default=None 입니다. classification을 다룰 때 매우 중요한 옵션값입니다.\n",
    "# stratify 값을 target으로 지정해주면\n",
    "# 각각의 class 비율(ratio)을 train / validation에 유지해 줍니다.\n",
    "# (한 쪽에 쏠려서 분배되는 것을 방지합니다) 만약 이 옵션을 지정해 주지 않고\n",
    "#  classification 문제를 다룬다면, 성능의 차이가 많이 날 수 있습니다.\n",
    "X = cancer.data\n",
    "y = cancer.target\n",
    "X_train,X_test, y_train, y_test = train_test_split(X, y, stratify = y, random_state=66)\n",
    "\n",
    "X_train.shape, X_test.shape"
   ]
  },
  {
   "cell_type": "code",
   "execution_count": null,
   "metadata": {
    "colab": {
     "base_uri": "https://localhost:8080/"
    },
    "executionInfo": {
     "elapsed": 539,
     "status": "ok",
     "timestamp": 1713409248581,
     "user": {
      "displayName": "박병운",
      "userId": "04400398390095856511"
     },
     "user_tz": -540
    },
    "id": "CvMuGsDbkBlc",
    "outputId": "638e2ae0-687a-4783-adf8-9136c239e58d"
   },
   "outputs": [],
   "source": [
    "# 훈련과 테스트 데이터셋 분리 후 악성과 양성의 비율이 비슷한지 확인\n",
    "t = np.bincount(cancer.target)\n",
    "print(t[1] / t[0])\n",
    "t = np.bincount(y_train)\n",
    "print( t[1]/t[0])\n",
    "t=np.bincount(y_test)\n",
    "print(t[1]/t[0])"
   ]
  },
  {
   "cell_type": "code",
   "execution_count": null,
   "metadata": {
    "colab": {
     "base_uri": "https://localhost:8080/",
     "height": 431
    },
    "executionInfo": {
     "elapsed": 5730,
     "status": "ok",
     "timestamp": 1713409539038,
     "user": {
      "displayName": "박병운",
      "userId": "04400398390095856511"
     },
     "user_tz": -540
    },
    "id": "FmbY2WteZf9s",
    "outputId": "ecca1006-37fa-4184-d22d-cde93227454c"
   },
   "outputs": [],
   "source": [
    "train_acc = []\n",
    "test_acc = []\n",
    "\n",
    "n_neighbors = range(1, 41)\n",
    "\n",
    "for n in n_neighbors:\n",
    "  model = KNeighborsClassifier(n_neighbors=n)\n",
    "  model.fit(X_train, y_train)\n",
    "  train_acc.append( model.score(X_train, y_train))\n",
    "  test_acc.append(model.score(X_test, y_test))\n",
    "\n",
    "plt.plot(n_neighbors, train_acc, label='훈련 정확도')\n",
    "plt.plot(n_neighbors, test_acc, label='테스트 정확도')\n",
    "plt.legend()\n",
    "plt.show()"
   ]
  },
  {
   "cell_type": "markdown",
   "metadata": {
    "id": "uDUfimNb5ivs"
   },
   "source": [
    "### K-NN 회귀\n",
    "\n",
    "k-NN을 회귀에 사용한 경우\n",
    "- 여러 개의 최근접 이웃을 사용할 경우에는 이웃 간의 평균이 예측 <br> (분류에서는 이웃의 레이블 개수를 확인해서 다수결로 정했지만, 회귀에서는 이웃들의 평균을 계산한다는 점이 차이)\n",
    "\n",
    "- 분류는 모델과 비교하여 유사한 데이터의 개수(불연속)로 판단한다면 회귀는 데이터의 평균유사도 (연속적인)와 같은 수치로 판단\n",
    "\n",
    "Classification(분류)는 연속적이지 않은 레이블, 다시 말해 ‘무엇’인지를 예측하지만, 회귀(Regression)는 연속된 수치, 즉 ‘얼마나’를 예측"
   ]
  },
  {
   "cell_type": "code",
   "execution_count": null,
   "metadata": {
    "colab": {
     "base_uri": "https://localhost:8080/",
     "height": 582
    },
    "executionInfo": {
     "elapsed": 1171,
     "status": "ok",
     "timestamp": 1713409662007,
     "user": {
      "displayName": "박병운",
      "userId": "04400398390095856511"
     },
     "user_tz": -540
    },
    "id": "giLwVwK75t3B",
    "outputId": "0b36a77c-309f-4e2a-858c-1d59074915aa"
   },
   "outputs": [],
   "source": [
    "from sklearn.utils.extmath import weighted_mode\n",
    "import mglearn\n",
    "import matplotlib.pyplot as plt\n",
    "\n",
    "mglearn.plots.plot_knn_regression(n_neighbors=3)"
   ]
  },
  {
   "cell_type": "markdown",
   "metadata": {
    "id": "WCfXlWlx9HQh"
   },
   "source": [
    "KNeighborsRegressor()"
   ]
  },
  {
   "cell_type": "code",
   "execution_count": null,
   "metadata": {
    "colab": {
     "base_uri": "https://localhost:8080/"
    },
    "executionInfo": {
     "elapsed": 307,
     "status": "ok",
     "timestamp": 1713409871087,
     "user": {
      "displayName": "박병운",
      "userId": "04400398390095856511"
     },
     "user_tz": -540
    },
    "id": "LE-NRotM9cJQ",
    "outputId": "c33a6e3b-6dee-4ed1-fc1e-eb69bac8b784"
   },
   "outputs": [],
   "source": [
    "from sklearn.neighbors import KNeighborsRegressor\n",
    "from sklearn.model_selection import train_test_split\n",
    "\n",
    "X, y = mglearn.datasets.make_wave(n_samples=9)\n",
    "X_train, X_test, y_train, y_test = train_test_split(X, y, random_state=0)\n",
    "\n",
    "model = KNeighborsRegressor(n_neighbors=3)\n",
    "model.fit(X_train, y_train)\n",
    "\n",
    "model.predict(X_test)"
   ]
  },
  {
   "cell_type": "markdown",
   "metadata": {
    "id": "kcqzKW8kkHYd"
   },
   "source": [
    "#### K-NN 회귀 실습 01\n",
    "\n",
    "IMDb 영화 데이터 세트\n",
    "\n",
    "회귀에 대한 이야기니까 당연히 \"평이 좋다\" vs \"평이 나쁘다\" 레이블로 분류하는 게 아니라 <br>\n",
    "실제 IMDb 등급(별점)을 예측하는 것이 과제의 목표"
   ]
  },
  {
   "cell_type": "code",
   "execution_count": null,
   "metadata": {
    "colab": {
     "base_uri": "https://localhost:8080/"
    },
    "executionInfo": {
     "elapsed": 349,
     "status": "ok",
     "timestamp": 1713409920999,
     "user": {
      "displayName": "박병운",
      "userId": "04400398390095856511"
     },
     "user_tz": -540
    },
    "id": "gtY_BfH9goZA",
    "outputId": "2c268c36-7c59-49c6-bdf9-f938a1859b91"
   },
   "outputs": [],
   "source": [
    "import numpy as np\n",
    "from sklearn.neighbors import KNeighborsRegressor\n",
    "\n",
    "# 영화에 대한 3개의 특성\n",
    "X_train = [\n",
    "  [0.5, 0.2, 0.1],\n",
    "  [0.9, 0.7, 0.3],\n",
    "  [0.4, 0.5, 0.7]\n",
    "]\n",
    "# 영화에 대한 별점\n",
    "y_train = [5.0, 6.8, 9.0]\n",
    "\n",
    "# 코드작성(모델)\n",
    "model = KNeighborsRegressor(n_neighbors=3, weights='distance')\n",
    "model.fit(X_train, y_train)\n",
    "\n",
    "# 새로운 영화 3건에 대해 별점을 예측\n",
    "X_test = np.array([\n",
    "  [0.2, 0.1, 0.7],\n",
    "  [0.4, 0.7, 0.6],\n",
    "  [0.5, 0.8, 0.1]\n",
    "])\n",
    "\n",
    "# 코드작성(예측)\n",
    "pre = model.predict(X_test)\n",
    "pre"
   ]
  },
  {
   "cell_type": "markdown",
   "metadata": {
    "id": "UC8DgCXHv9a5"
   },
   "source": [
    "##### weight 가중치 함수 추가설명\n",
    "\n",
    "예를 들어\n",
    "```\n",
    "영화 : A -> 등급: 5.0 , X까지의 거리: 3.2\n",
    "영화 : B -> 등급: 6.8 , X까지의 거리: 11.5\n",
    "영화 : C -> 등급: 9.0 , X까지의 거리: 1.1\n",
    "```\n",
    "가 있다고 할 때\n",
    "\n",
    "평균을 구하면\n",
    "> (5.0 + 6.8 + 9.0) / 3 = 6.93\n",
    "\n",
    "거리에 대한 가중 평균을 구해보면\n",
    "> (5.0/3.2 + 6.8/11.5 + 9.0/1.1) / (1/3.2 + 1/11.5 + 1/1.1) = 7.9\n",
    "\n",
    "code\n",
    "```\n",
    "print( (5.0 + 6.8 + 9.0) / 3 )\n",
    "print( (5.0/3.2 + 6.8/11.5 + 9.0/1.1) / (1/3.2 + 1/11.5 + 1/1.1) )\n",
    "출력\n",
    "6.933333333333334\n",
    "7.898546346988861\n",
    "```"
   ]
  }
 ],
 "metadata": {
  "accelerator": "GPU",
  "colab": {
   "gpuType": "T4",
   "provenance": []
  },
  "kernelspec": {
   "display_name": "Python 3 (ipykernel)",
   "language": "python",
   "name": "python3"
  },
  "language_info": {
   "codemirror_mode": {
    "name": "ipython",
    "version": 3
   },
   "file_extension": ".py",
   "mimetype": "text/x-python",
   "name": "python",
   "nbconvert_exporter": "python",
   "pygments_lexer": "ipython3",
   "version": "3.12.3"
  }
 },
 "nbformat": 4,
 "nbformat_minor": 4
}
